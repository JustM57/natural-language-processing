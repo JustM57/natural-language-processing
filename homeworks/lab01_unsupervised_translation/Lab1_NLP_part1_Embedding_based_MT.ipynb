{
 "cells": [
  {
   "cell_type": "markdown",
   "metadata": {
    "id": "eulvfJWl7ueY"
   },
   "source": [
    "# Lab 1\n",
    "\n",
    "\n",
    "## Part 1: Bilingual dictionary induction and unsupervised embedding-based MT (30%)\n",
    "*Note: this homework is based on materials from yandexdataschool [NLP course](https://github.com/yandexdataschool/nlp_course/). Feel free to check this awesome course if you wish to dig deeper.*\n",
    "\n",
    "*Refined by [Nikolay Karpachev](https://www.linkedin.com/in/nikolay-karpachev-b0146a104/)*"
   ]
  },
  {
   "cell_type": "markdown",
   "metadata": {
    "id": "fV4rIjxa7uei"
   },
   "source": [
    "**In this homework** **<font color='red'>YOU</font>** will make machine translation system without using parallel corpora, alignment, attention, 100500 depth super-cool recurrent neural network and all that kind superstuff.\n",
    "\n",
    "But even without parallel corpora this system can be good enough (hopefully), in particular for similar languages, e.g. Ukrainian and Russian. "
   ]
  },
  {
   "cell_type": "markdown",
   "metadata": {
    "id": "idSYq2GU7uew"
   },
   "source": [
    "### Frament of the Swadesh list for some slavic languages\n",
    "\n",
    "The Swadesh list is a lexicostatistical stuff. It's named after American linguist Morris Swadesh and contains basic lexis. This list are used to define subgroupings of languages, its relatedness.\n",
    "\n",
    "So we can see some kind of word invariance for different Slavic languages.\n",
    "\n",
    "\n",
    "| Russian         | Belorussian              | Ukrainian               | Polish             | Czech                         | Bulgarian            |\n",
    "|-----------------|--------------------------|-------------------------|--------------------|-------------------------------|-----------------------|\n",
    "| женщина         | жанчына, кабета, баба    | жінка                   | kobieta            | žena                          | жена                  |\n",
    "| мужчина         | мужчына                  | чоловік, мужчина        | mężczyzna          | muž                           | мъж                   |\n",
    "| человек         | чалавек                  | людина, чоловік         | człowiek           | člověk                        | човек                 |\n",
    "| ребёнок, дитя   | дзіця, дзіцёнак, немаўля | дитина, дитя            | dziecko            | dítě                          | дете                  |\n",
    "| жена            | жонка                    | дружина, жінка          | żona               | žena, manželka, choť          | съпруга, жена         |\n",
    "| муж             | муж, гаспадар            | чоловiк, муж            | mąż                | muž, manžel, choť             | съпруг, мъж           |\n",
    "| мать, мама      | маці, матка              | мати, матір, неня, мама | matka              | matka, máma, 'стар.' mateř    | майка                 |\n",
    "| отец, тятя      | бацька, тата             | батько, тато, татусь    | ojciec             | otec                          | баща, татко           |\n",
    "| много           | шмат, багата             | багато                  | wiele              | mnoho, hodně                  | много                 |\n",
    "| несколько       | некалькі, колькі         | декілька, кілька        | kilka              | několik, pár, trocha          | няколко               |\n",
    "| другой, иной    | іншы                     | інший                   | inny               | druhý, jiný                   | друг                  |\n",
    "| зверь, животное | жывёла, звер, істота     | тварина, звір           | zwierzę            | zvíře                         | животно               |\n",
    "| рыба            | рыба                     | риба                    | ryba               | ryba                          | риба                  |\n",
    "| птица           | птушка                   | птах, птиця             | ptak               | pták                          | птица                 |\n",
    "| собака, пёс     | сабака                   | собака, пес             | pies               | pes                           | куче, пес             |\n",
    "| вошь            | вош                      | воша                    | wesz               | veš                           | въшка                 |\n",
    "| змея, гад       | змяя                     | змія, гад               | wąż                | had                           | змия                  |\n",
    "| червь, червяк   | чарвяк                   | хробак, черв'як         | robak              | červ                          | червей                |\n",
    "| дерево          | дрэва                    | дерево                  | drzewo             | strom, dřevo                  | дърво                 |\n",
    "| лес             | лес                      | ліс                     | las                | les                           | гора, лес             |\n",
    "| палка           | кій, палка               | палиця                  | patyk, pręt, pałka | hůl, klacek, prut, kůl, pálka | палка, пръчка, бастун |"
   ]
  },
  {
   "cell_type": "markdown",
   "metadata": {
    "id": "cNM3_fjr7ue2"
   },
   "source": [
    "But the context distribution of these languages demonstrates even more invariance. And we can use this fact for our for our purposes."
   ]
  },
  {
   "cell_type": "markdown",
   "metadata": {
    "id": "YLppwa527ue6"
   },
   "source": [
    "## Data"
   ]
  },
  {
   "cell_type": "markdown",
   "metadata": {
    "id": "MwGoVhRA7ufP"
   },
   "source": [
    "In this notebook we're going to use pretrained word vectors - FastText (original paper - https://arxiv.org/abs/1607.04606).\n",
    "\n",
    "You can download them from the official [website](https://fasttext.cc/docs/en/crawl-vectors.html). We're going to need embeddings for Russian and Ukrainian languages."
   ]
  },
  {
   "cell_type": "code",
   "source": [
    "# !wget -nc https://dl.fbaipublicfiles.com/fasttext/vectors-crawl/cc.ru.300.vec.gz\n",
    "# !gzip -d cc.ru.300.vec.gz\n",
    "#\n",
    "# !wget -nc https://dl.fbaipublicfiles.com/fasttext/vectors-crawl/cc.uk.300.vec.gz\n",
    "# !gzip -d cc.uk.300.vec.gz"
   ],
   "metadata": {
    "id": "KV2-MpR-ugq-"
   },
   "execution_count": 1,
   "outputs": []
  },
  {
   "cell_type": "markdown",
   "source": [
    "After downloading and extracting the vectors, we should be able to load them using the [gensim](https://radimrehurek.com/gensim/) library:"
   ],
   "metadata": {
    "id": "Kwg26PKLv88U"
   }
  },
  {
   "cell_type": "code",
   "execution_count": 2,
   "metadata": {
    "id": "u1JjQv_97ufT"
   },
   "outputs": [],
   "source": [
    "from gensim.models import KeyedVectors\n",
    "\n",
    "\n",
    "uk_emb = KeyedVectors.load_word2vec_format(\"cc.uk.300.vec\")\n",
    "ru_emb = KeyedVectors.load_word2vec_format(\"cc.ru.300.vec\")"
   ]
  },
  {
   "cell_type": "markdown",
   "source": [
    "Once you've loaded the vectors, you can use the `KeyedVectors` interface to get word embeddings and/or query most similar words by embedding:"
   ],
   "metadata": {
    "id": "Sqb_XJhkMyHM"
   }
  },
  {
   "cell_type": "code",
   "execution_count": 3,
   "metadata": {
    "id": "nTkXfT0W7ufk"
   },
   "outputs": [
    {
     "data": {
      "text/plain": "((300,), array([ 0.0033, -0.0322, -0.0519, -0.0808, -0.0131], dtype=float32))"
     },
     "execution_count": 3,
     "metadata": {},
     "output_type": "execute_result"
    }
   ],
   "source": [
    "august_embedding = ru_emb[\"август\"]\n",
    "august_embedding.shape, august_embedding[:5]"
   ]
  },
  {
   "cell_type": "code",
   "source": [
    "ru_emb.most_similar([august_embedding])"
   ],
   "metadata": {
    "id": "oQ2kCq-7NQPn"
   },
   "execution_count": 4,
   "outputs": [
    {
     "data": {
      "text/plain": "[('август', 0.9999998807907104),\n ('июль', 0.9383153915405273),\n ('сентябрь', 0.9240029454231262),\n ('июнь', 0.9222574830055237),\n ('октябрь', 0.9095538258552551),\n ('ноябрь', 0.893003523349762),\n ('апрель', 0.8729087114334106),\n ('декабрь', 0.8652557730674744),\n ('март', 0.8545795679092407),\n ('февраль', 0.8401415944099426)]"
     },
     "execution_count": 4,
     "metadata": {},
     "output_type": "execute_result"
    }
   ]
  },
  {
   "cell_type": "markdown",
   "source": [
    "The latter function also allows you to vary the amount of closest words via the `topn` argument:"
   ],
   "metadata": {
    "id": "t5EcMMI6pxzL"
   }
  },
  {
   "cell_type": "code",
   "source": [
    "ru_emb.most_similar([august_embedding], topn=3)"
   ],
   "metadata": {
    "id": "bi6AF3z0p9Oo"
   },
   "execution_count": 5,
   "outputs": [
    {
     "data": {
      "text/plain": "[('август', 0.9999998807907104),\n ('июль', 0.9383153915405273),\n ('сентябрь', 0.9240029454231262)]"
     },
     "execution_count": 5,
     "metadata": {},
     "output_type": "execute_result"
    }
   ]
  },
  {
   "cell_type": "markdown",
   "source": [
    "Another feature of `KeyedVectors` is that it allows to compute embeddings for multiple words simultaneously:"
   ],
   "metadata": {
    "id": "xw345NRXov4p"
   }
  },
  {
   "cell_type": "code",
   "source": [
    "ru_emb[[\"август\", \"сентябрь\"]].shape"
   ],
   "metadata": {
    "id": "86OuYeLYow0C"
   },
   "execution_count": 6,
   "outputs": [
    {
     "data": {
      "text/plain": "(2, 300)"
     },
     "execution_count": 6,
     "metadata": {},
     "output_type": "execute_result"
    }
   ]
  },
  {
   "cell_type": "markdown",
   "source": [
    "Everything above is true for the embeddings for Ukrainian language."
   ],
   "metadata": {
    "id": "3uGx5zHXQtfo"
   }
  },
  {
   "cell_type": "code",
   "execution_count": 7,
   "metadata": {
    "id": "vdBA8lcg7ufs"
   },
   "outputs": [
    {
     "data": {
      "text/plain": "[('серпень', 1.000000238418579),\n ('липень', 0.9096441268920898),\n ('вересень', 0.9016969203948975),\n ('червень', 0.8992519974708557),\n ('жовтень', 0.8810409307479858),\n ('листопад', 0.8787633180618286),\n ('квітень', 0.8592804074287415),\n ('грудень', 0.8586863279342651),\n ('травень', 0.840811014175415),\n ('лютий', 0.8256431221961975)]"
     },
     "execution_count": 7,
     "metadata": {},
     "output_type": "execute_result"
    }
   ],
   "source": [
    "uk_emb.most_similar([uk_emb[\"серпень\"]])"
   ]
  },
  {
   "cell_type": "markdown",
   "source": [
    "However, russian and ukrainian embeddings were trained independently of each other. This means, that there is no obvious connection between values in embeddings for similar words in Russian and Ukrainian:"
   ],
   "metadata": {
    "id": "F1Dkka5uQ37-"
   }
  },
  {
   "cell_type": "code",
   "execution_count": 8,
   "metadata": {
    "id": "_yJvcKXO7uf0"
   },
   "outputs": [
    {
     "data": {
      "text/plain": "[('Stepashka.com', 0.2757962942123413),\n ('ЖИЗНИВадим', 0.25203436613082886),\n ('2Дмитрий', 0.25048112869262695),\n ('2012Дмитрий', 0.24829229712486267),\n ('Ведущий-Алексей', 0.24438701570034027),\n ('Недопустимость', 0.24435284733772278),\n ('2Михаил', 0.23981398344039917),\n ('лексей', 0.2374075949192047),\n ('комплексн', 0.23695147037506104),\n ('персональ', 0.2368222177028656)]"
     },
     "execution_count": 8,
     "metadata": {},
     "output_type": "execute_result"
    }
   ],
   "source": [
    "ru_emb.most_similar([uk_emb[\"серпень\"]])"
   ]
  },
  {
   "cell_type": "markdown",
   "source": [
    "## Translation"
   ],
   "metadata": {
    "id": "Lia_h7W2qL8C"
   }
  },
  {
   "cell_type": "markdown",
   "metadata": {
    "id": "pNdYAR1q7uf6"
   },
   "source": [
    "We'll build a simple translator, which will try to predict the russian embedding from the ukrainian one. For this we'll need a dataset of word pairs."
   ]
  },
  {
   "cell_type": "code",
   "source": [
    "import pandas as pd\n",
    "\n",
    "\n",
    "train_data_url = \"uk_ru.train.tsv\"\n",
    "train_data = pd.read_csv(train_data_url, sep=\"\\t\", header=None)\n",
    "train_data.columns = [\"uk\", \"ru\"]\n",
    "print(f\"Train dataset size: {len(train_data)}\")\n",
    "\n",
    "test_data_url = \"uk_ru.test.tsv\"\n",
    "test_data = pd.read_csv(test_data_url, sep=\"\\t\", header=None)\n",
    "test_data.columns = [\"uk\", \"ru\"]\n",
    "print(f\"Test dataset size: {len(test_data)}\")\n",
    "\n",
    "train_data.head()"
   ],
   "metadata": {
    "id": "Kon7ZH6wUYdN"
   },
   "execution_count": 10,
   "outputs": [
    {
     "name": "stdout",
     "output_type": "stream",
     "text": [
      "Train dataset size: 1927\n",
      "Test dataset size: 400\n"
     ]
    },
    {
     "data": {
      "text/plain": "         uk          ru\n0  iмовірно    вероятно\n1     iснує  существует\n2     iспит     экзамен\n3     абияк  как-нибудь\n4       або         или",
      "text/html": "<div>\n<style scoped>\n    .dataframe tbody tr th:only-of-type {\n        vertical-align: middle;\n    }\n\n    .dataframe tbody tr th {\n        vertical-align: top;\n    }\n\n    .dataframe thead th {\n        text-align: right;\n    }\n</style>\n<table border=\"1\" class=\"dataframe\">\n  <thead>\n    <tr style=\"text-align: right;\">\n      <th></th>\n      <th>uk</th>\n      <th>ru</th>\n    </tr>\n  </thead>\n  <tbody>\n    <tr>\n      <th>0</th>\n      <td>iмовірно</td>\n      <td>вероятно</td>\n    </tr>\n    <tr>\n      <th>1</th>\n      <td>iснує</td>\n      <td>существует</td>\n    </tr>\n    <tr>\n      <th>2</th>\n      <td>iспит</td>\n      <td>экзамен</td>\n    </tr>\n    <tr>\n      <th>3</th>\n      <td>абияк</td>\n      <td>как-нибудь</td>\n    </tr>\n    <tr>\n      <th>4</th>\n      <td>або</td>\n      <td>или</td>\n    </tr>\n  </tbody>\n</table>\n</div>"
     },
     "execution_count": 10,
     "metadata": {},
     "output_type": "execute_result"
    }
   ]
  },
  {
   "cell_type": "markdown",
   "source": [
    "Our method won't work with unknown words, so let's filter them out:"
   ],
   "metadata": {
    "id": "DYoXmFPanrwo"
   }
  },
  {
   "cell_type": "code",
   "source": [
    "rows = []\n",
    "for _, row in train_data.iterrows():\n",
    "    if row[\"uk\"] not in uk_emb or row[\"ru\"] not in ru_emb:\n",
    "        continue\n",
    "\n",
    "    rows.append(row)\n",
    "\n",
    "train_data = pd.DataFrame(rows)\n",
    "print(f\"Train dataset size: {len(train_data)}\")\n",
    "\n",
    "rows = []\n",
    "for _, row in test_data.iterrows():\n",
    "    if row[\"uk\"] not in uk_emb or row[\"ru\"] not in ru_emb:\n",
    "        continue\n",
    "\n",
    "    rows.append(row)\n",
    "\n",
    "test_data = pd.DataFrame(rows)\n",
    "print(f\"Test dataset size: {len(test_data)}\")"
   ],
   "metadata": {
    "id": "Ls4h2PrplJID"
   },
   "execution_count": 11,
   "outputs": [
    {
     "name": "stdout",
     "output_type": "stream",
     "text": [
      "Train dataset size: 1880\n",
      "Test dataset size: 393\n"
     ]
    }
   ]
  },
  {
   "cell_type": "markdown",
   "source": [
    "We will train our model to predict embedding for the russian word from embedding of its ukrainian counterpart. For this reason we split our train and test data into ukrainian and russian words and compute corresponding embeddings to obtain `X` (ukrainian embeddings) and `y` (russian embeddings)."
   ],
   "metadata": {
    "id": "wwjYGFE7Ui0N"
   }
  },
  {
   "cell_type": "code",
   "source": [
    "X_train, Y_train = uk_emb[train_data[\"uk\"].values], ru_emb[train_data[\"ru\"].values]\n",
    "X_test, Y_test = uk_emb[test_data[\"uk\"].values], ru_emb[test_data[\"ru\"].values]"
   ],
   "metadata": {
    "id": "WR7v7lvFYWYy"
   },
   "execution_count": 12,
   "outputs": []
  },
  {
   "cell_type": "markdown",
   "metadata": {
    "id": "-ZBBNvpz7ugQ"
   },
   "source": [
    "## Embedding space mapping (0.3 pts)"
   ]
  },
  {
   "cell_type": "markdown",
   "metadata": {
    "id": "x_Dhk5gL7ugS"
   },
   "source": [
    "Let $x_i \\in \\mathrm{R}^d$ be the distributed representation of word $i$ in the source language, and $y_i \\in \\mathrm{R}^d$ is the vector representation of its translation. Our purpose is to learn such linear transform $W$ that minimizes euclidian distance between $Wx_i$ and $y_i$ for some subset of word embeddings. Thus we can formulate so-called Procrustes problem:\n",
    "\n",
    "$$W^*= \\arg\\min_W \\sum_{i=1}^n\\|Wx_i - y_i\\|_2$$\n",
    "\n",
    "or\n",
    "\n",
    "$$W^*= \\arg\\min_W \\|XW^T - Y\\|_F$$\n",
    "\n",
    "where $\\|\\cdot\\|_F$ denotes Frobenius norm.\n",
    "\n",
    "> **Note:** in second formula, $W$ and $x$ seem to have switched places. This happens because the $X$ matrix is composed of objects $x_i$ in *rows* not *columns*, i.e. it is kind of composed of $x_i^T$. This means that $X \\in \\mathbb{R}^{N \\times D}$, where $N$ is the number of items and $D$ is the embedding dimensionality. The same is true for the $Y$."
   ]
  },
  {
   "cell_type": "markdown",
   "metadata": {
    "id": "acOjDdtL7ugY"
   },
   "source": [
    "$W^*= \\arg\\min_W \\sum_{i=1}^n\\|Wx_i - y_i\\|_2$ looks like simple multiple linear regression without bias. The `sklearn` allows you to turn off the bias in `LinearRegression` via the `fit_intercept` argument (in fact they simply call bias the intercept). So let's code."
   ]
  },
  {
   "cell_type": "code",
   "execution_count": 13,
   "metadata": {
    "id": "Lb-KN1be7uga"
   },
   "outputs": [
    {
     "data": {
      "text/plain": "LinearRegression(fit_intercept=False)"
     },
     "execution_count": 13,
     "metadata": {},
     "output_type": "execute_result"
    }
   ],
   "source": [
    "from sklearn.linear_model import LinearRegression\n",
    "\n",
    "\n",
    "mapping = LinearRegression(fit_intercept=False)\n",
    "mapping.fit(X_train, Y_train)"
   ]
  },
  {
   "cell_type": "markdown",
   "metadata": {
    "id": "X7tqJwoY7ugf"
   },
   "source": [
    "Let's take a look at neigbours of the vector of word _\"серпень\"_ (_\"август\"_ in Russian) after linear transform."
   ]
  },
  {
   "cell_type": "code",
   "execution_count": 14,
   "metadata": {
    "id": "31SrFSbn7ugi"
   },
   "outputs": [
    {
     "data": {
      "text/plain": "[('апрель', 0.8531430959701538),\n ('июнь', 0.840252161026001),\n ('март', 0.8385881781578064),\n ('сентябрь', 0.8331483006477356),\n ('февраль', 0.8311208486557007),\n ('октябрь', 0.8278016448020935),\n ('ноябрь', 0.8243726491928101),\n ('июль', 0.8229615688323975),\n ('август', 0.8112279772758484),\n ('январь', 0.802298367023468)]"
     },
     "execution_count": 14,
     "metadata": {},
     "output_type": "execute_result"
    }
   ],
   "source": [
    "august = mapping.predict(uk_emb[\"серпень\"].reshape(1, -1))\n",
    "ru_emb.most_similar(august)"
   ]
  },
  {
   "cell_type": "markdown",
   "metadata": {
    "id": "okSkjk597ugo"
   },
   "source": [
    "We can see that neighbourhood of this embedding cosists of different months, but right variant is on the ninth place."
   ]
  },
  {
   "cell_type": "markdown",
   "metadata": {
    "id": "o2uY6Y9B7ugt"
   },
   "source": [
    "As quality measure we will use precision top-1, top-5 and top-10 (for each transformed ukrainian embedding we count how many right target pairs are found in top N nearest neighbours in russian embedding space)."
   ]
  },
  {
   "cell_type": "code",
   "execution_count": 23,
   "metadata": {
    "id": "zptuho8LAfIE"
   },
   "outputs": [],
   "source": [
    "def precision(pairs, mapped_vectors, topn=1):\n",
    "    \"\"\"\n",
    "    :args:\n",
    "        pairs = list of right word pairs [(uk_word_0, ru_word_0), ...]\n",
    "        mapped_vectors = list of embeddings after mapping from source embedding space to destination embedding space\n",
    "        topn = the number of nearest neighbours in destination embedding space to choose from\n",
    "    :returns:\n",
    "        precision_val, float number, total number of words for those we can find right translation at top K.\n",
    "    \"\"\"\n",
    "    assert len(pairs) == len(mapped_vectors)\n",
    "    total = len(pairs)\n",
    "    correct = 0\n",
    "    for i in range(total):\n",
    "        pair = pairs[i]\n",
    "        predicted_vector = mapped_vectors[i]\n",
    "        most_similar = [name for name, val  in ru_emb.most_similar(predicted_vector, topn=topn)]\n",
    "        if pair[1] in most_similar:\n",
    "            correct += 1\n",
    "\n",
    "    return correct / total"
   ]
  },
  {
   "cell_type": "code",
   "execution_count": 24,
   "metadata": {
    "id": "duhj9hpv7ugy"
   },
   "outputs": [],
   "source": [
    "assert precision([(\"серпень\", \"август\")], august, topn=5) == 0.0\n",
    "assert precision([(\"серпень\", \"август\")], august, topn=9) == 1.0\n",
    "assert precision([(\"серпень\", \"август\")], august, topn=10) == 1.0"
   ]
  },
  {
   "cell_type": "markdown",
   "source": [
    "Note that our `precision` function accepts lists of pairs of words, whereas we have dataframes. However, it is not a problem: we can get a list (actually, numpy array) of pairs via the `values` property."
   ],
   "metadata": {
    "id": "z5A9tWtnuFx3"
   }
  },
  {
   "cell_type": "code",
   "execution_count": 25,
   "metadata": {
    "id": "0-iyd5gP7ug5"
   },
   "outputs": [],
   "source": [
    "assert precision(test_data.values, X_test) == 0.0\n",
    "assert precision(test_data.values, Y_test) == 1.0"
   ]
  },
  {
   "cell_type": "markdown",
   "source": [
    "Let's see how well our model is doing."
   ],
   "metadata": {
    "id": "7DVV5lqrua_O"
   }
  },
  {
   "cell_type": "code",
   "execution_count": 26,
   "metadata": {
    "id": "U-ssEJ3x7uhA"
   },
   "outputs": [
    {
     "name": "stdout",
     "output_type": "stream",
     "text": [
      "Top-1 precision 62.8%\n",
      "Top-5 precision 79.1%\n"
     ]
    }
   ],
   "source": [
    "top1 = precision(test_data.values, mapping.predict(X_test), 1)\n",
    "print(f\"Top-1 precision {100 * top1:.1f}%\")\n",
    "\n",
    "top5 = precision(test_data.values, mapping.predict(X_test), 5)\n",
    "print(f\"Top-5 precision {100 * top5:.1f}%\")"
   ]
  },
  {
   "cell_type": "markdown",
   "metadata": {
    "id": "hf6Ou8bx7uhH"
   },
   "source": [
    "## Making it better (orthogonal Procrustean problem) (0.3 pts)"
   ]
  },
  {
   "cell_type": "markdown",
   "metadata": {
    "id": "4oLs-drN7uhK"
   },
   "source": [
    "It can be shown that a self-consistent linear mapping between semantic spaces should be orthogonal. \n",
    "We can restrict transform $W$ to be orthogonal. Then we will solve next problem:\n",
    "\n",
    "$$(W^T)^*= \\arg\\min_{W^T} \\|XW^T - Y\\|_F \\text{, where: } W^TW = I$$\n",
    "\n",
    "$$I \\text{- identity matrix}$$\n",
    "\n",
    "Instead of making yet another regression problem we can find optimal orthogonal transformation using singular value decomposition. It turns out that optimal transformation $W^*$ can be expressed via SVD components:\n",
    "$$X^TY=U\\Sigma V^T\\text{, singular value decompostion}$$\n",
    "$$(W^T)^*=UV^T$$"
   ]
  },
  {
   "cell_type": "code",
   "execution_count": 27,
   "metadata": {
    "id": "DdFQ7qti7uhL"
   },
   "outputs": [],
   "source": [
    "import numpy as np\n",
    "from sklearn.decomposition import TruncatedSVD\n",
    "\n",
    "\n",
    "# YOUR CODE HERE\n",
    "# Compute the orthogonal mapping (W^T)^* as defined in formula above.\n",
    "u, s, vh = np.linalg.svd(X_train.T @ Y_train)\n",
    "mapping = u @ vh"
   ]
  },
  {
   "cell_type": "markdown",
   "source": [
    "Now our `mapping` is just a numpy array, meaning that it has no `predict` method. However, from the formulae above we know, that prediction is done using the matrix multiplication:"
   ],
   "metadata": {
    "id": "sehLFmlBysc-"
   }
  },
  {
   "cell_type": "code",
   "execution_count": 28,
   "metadata": {
    "id": "OVOFYYa37uhX"
   },
   "outputs": [
    {
     "data": {
      "text/plain": "[('апрель', 0.8245131969451904),\n ('июнь', 0.8056628704071045),\n ('сентябрь', 0.8055761456489563),\n ('март', 0.8032934665679932),\n ('октябрь', 0.798710286617279),\n ('июль', 0.794679582118988),\n ('ноябрь', 0.793963611125946),\n ('август', 0.7938187718391418),\n ('февраль', 0.7923860549926758),\n ('декабрь', 0.7715376019477844)]"
     },
     "execution_count": 28,
     "metadata": {},
     "output_type": "execute_result"
    }
   ],
   "source": [
    "august = uk_emb[\"серпень\"] @ mapping\n",
    "ru_emb.most_similar([august])"
   ]
  },
  {
   "cell_type": "markdown",
   "source": [
    "Now let's compute our precision values and see, whether our trick did improve the results."
   ],
   "metadata": {
    "id": "h4qKCmq7zJDK"
   }
  },
  {
   "cell_type": "code",
   "execution_count": 29,
   "metadata": {
    "id": "r297sYP37uhb"
   },
   "outputs": [
    {
     "name": "stdout",
     "output_type": "stream",
     "text": [
      "Top-1 precision 64.4%\n",
      "Top-5 precision 79.9%\n"
     ]
    }
   ],
   "source": [
    "top1 = precision(test_data.values, X_test @ mapping, 1)\n",
    "print(f\"Top-1 precision {100 * top1:.1f}%\")\n",
    "\n",
    "top5 = precision(test_data.values, X_test @ mapping, 5)\n",
    "print(f\"Top-5 precision {100 * top5:.1f}%\")"
   ]
  },
  {
   "cell_type": "markdown",
   "metadata": {
    "id": "hvUZ72U5AfJg"
   },
   "source": [
    "## Unsupervised embedding-based MT (0.4 pts)"
   ]
  },
  {
   "cell_type": "markdown",
   "metadata": {
    "id": "LLyuVfHBLrJn"
   },
   "source": [
    "Now, let's build our word embeddings-based translator!"
   ]
  },
  {
   "cell_type": "markdown",
   "metadata": {
    "id": "tPAURW1CMuP7"
   },
   "source": [
    "Firstly, download OPUS Tatoeba corpus."
   ]
  },
  {
   "cell_type": "code",
   "execution_count": 15,
   "metadata": {
    "id": "F80kUKzQMsDu"
   },
   "outputs": [
    {
     "name": "stdout",
     "output_type": "stream",
     "text": [
      "--2022-03-27 19:59:27--  https://object.pouta.csc.fi/OPUS-Tatoeba/v20190709/mono/uk.txt.gz\r\n",
      "Resolving object.pouta.csc.fi (object.pouta.csc.fi)... 86.50.254.19, 86.50.254.18\r\n",
      "Connecting to object.pouta.csc.fi (object.pouta.csc.fi)|86.50.254.19|:443... connected.\r\n",
      "HTTP request sent, awaiting response... 200 OK\r\n",
      "Length: 1819128 (1.7M) [application/gzip]\r\n",
      "Saving to: ‘uk.txt.gz’\r\n",
      "\r\n",
      "uk.txt.gz           100%[===================>]   1.73M   738KB/s    in 2.4s    \r\n",
      "\r\n",
      "2022-03-27 19:59:30 (738 KB/s) - ‘uk.txt.gz’ saved [1819128/1819128]\r\n",
      "\r\n"
     ]
    }
   ],
   "source": [
    "!wget https://object.pouta.csc.fi/OPUS-Tatoeba/v20190709/mono/uk.txt.gz\n",
    "!gzip -d ./uk.txt.gz"
   ]
  },
  {
   "cell_type": "code",
   "execution_count": 30,
   "metadata": {
    "id": "2MV3VvoVUX5U"
   },
   "outputs": [
    {
     "data": {
      "text/plain": "['Я вже закінчу коледж, коли ви вернетеся з Америки.\\n',\n 'Він наказав мені негайно вийти з кімнати.\\n',\n 'Як би ти не намагався, ти не вивчиш англійську за два-три місяці.\\n',\n 'Поки я не подзвонив, він не прийшов.\\n',\n 'У всесвіті багато галактик.\\n']"
     },
     "execution_count": 30,
     "metadata": {},
     "output_type": "execute_result"
    }
   ],
   "source": [
    "with open('./uk.txt', 'r') as f:\n",
    "    uk_corpus = f.readlines()\n",
    "\n",
    "# To save your time and CPU, feel free to use first 1000 sentences of the corpus\n",
    "uk_corpus = uk_corpus[:1000]\n",
    "uk_corpus[:5]"
   ]
  },
  {
   "cell_type": "markdown",
   "source": [
    "Now let's translate these sentences word-by-word. Before that, however, don't forget to tokenize your sentences. For that you may (or may not) find the `nltk.tokenize.WordPunctTokenizer` to be very useful."
   ],
   "metadata": {
    "id": "oa3dAZHv1wjY"
   }
  },
  {
   "cell_type": "code",
   "execution_count": 44,
   "metadata": {
    "id": "FGksC7l_NMi9"
   },
   "outputs": [],
   "source": [
    "from nltk.tokenize import WordPunctTokenizer\n",
    "\n",
    "\n",
    "\n",
    "\n",
    "def translate(sentence):\n",
    "    \"\"\"\n",
    "    :args:\n",
    "        sentence - sentence in Ukrainian (str)\n",
    "    :returns:\n",
    "        translation - sentence in Russian (str)\n",
    "\n",
    "    * find ukrainian embedding for each word in sentence\n",
    "    * transform ukrainian embedding vector\n",
    "    * find nearest russian word and replace\n",
    "    \"\"\"\n",
    "    tokenizer = WordPunctTokenizer()\n",
    "    def normalize(text):\n",
    "        tokens = tokenizer.tokenize(str(text).lower())\n",
    "        return \" \".join(tokens)\n",
    "\n",
    "    def map_ru(word):\n",
    "        if word in uk_emb:\n",
    "            word_embedding = uk_emb[word] @ mapping\n",
    "            return ru_emb.most_similar([word_embedding], topn=1)[0][0]\n",
    "        else:\n",
    "            return None\n",
    "\n",
    "    normalized_sentence = normalize(sentence)\n",
    "    translated = filter(None, [map_ru(token) for token in normalized_sentence.split()])\n",
    "    return \" \".join(translated)"
   ]
  },
  {
   "cell_type": "code",
   "execution_count": 46,
   "metadata": {
    "id": "4hbbMy-tNxlf"
   },
   "outputs": [],
   "source": [
    "assert translate(\".\") == \".\"\n",
    "assert translate(\"1 , 3\") == \"1 , 3\"\n",
    "assert translate(\"кіт зловив мишу\") == \"кот поймал мышку\""
   ]
  },
  {
   "cell_type": "markdown",
   "metadata": {
    "id": "ia6I2ce7O_HI"
   },
   "source": [
    "Now you can play with your model and try to get as accurate translations as possible. **Note**: one big issue is out-of-vocabulary words. Try to think of various ways of handling it (you can start with translating each of them to a special **UNK** token and then move to more sophisticated approaches). Good luck!"
   ]
  },
  {
   "cell_type": "code",
   "execution_count": 49,
   "metadata": {
    "id": "ap1W7ZCeOAVU"
   },
   "outputs": [
    {
     "name": "stdout",
     "output_type": "stream",
     "text": [
      "мной уже закончу колледж , когда мы прибежишь со америки .\n",
      "город бомбили враждебные самолеты .\n",
      "возможно , мной антисоциальный , конечно это не означает , что мной не общаюсь со людьми .\n",
      "этого утра выпала роса .\n",
      "беда не приходит одна .\n",
      "посмотри по тот дым .\n",
      "мной заказал два гамбургера .\n",
      "мной не хотел никого обидеть .\n",
      "гора покрыта снегом .\n",
      "по фотографии во девушки корона не со золота , а со цветов .\n",
      "во меня То мечта .\n",
      "мной приехал во со китая .\n",
      "по север находится ; по юге — англия ; по востоке — англо-саксонский ; и ещe дальше по востоке — северная шотландия .\n",
      "его родная страна — германия .\n",
      "Уотертаун — столица ирландии .\n",
      "он ждал по него к десятой часа .\n",
      "ты можешь взять ту книгу даром .\n",
      "этот роман сочинил известный американский писатель .\n",
      "забронировать , будте ласковые , комнату возле международного аэропорта во .\n",
      "он знает , что ты его влюбится ?\n",
      "мной знаю , что ты богатый .\n",
      "те , кто всё забывают , счастливые .\n",
      "во этой реке опасно плавать .\n",
      "пришел , увидел , победил .\n",
      "мной хожу к школы пешком .\n",
      "не моя дело !\n",
      "не забудь билет .\n",
      "кто он ?\n",
      "мы будете чай ли кофе ?\n",
      "он не пойдет по пикник , как и мной .\n",
      "когда мы родились ?\n",
      "это моя любимая песня .\n",
      "мы почти семь со мной .\n",
      "который красивый сегодня месяц !\n",
      "мной против любой – которых войны .\n",
      "поверхность воздушной шары — пространство , потому для неё не выполняются правила симметрической геометрии .\n",
      "дескать , что американцы считают количество денег , какую зарабатывает женщина , мерилом его умение .\n",
      "можно мной это платье ?\n",
      "если будет красивая погода , мы доберёмся туда завтра .\n",
      "это был злой заяц .\n",
      "один , два , три , четыре , аш со пять , восемь , семь , восемь , девять со пять , десять .\n",
      "кто во любви не знает , тот горя не знает .\n",
      "его иметь волнуется за него .\n",
      "мной уважаю тех , кто старается со всех сил .\n",
      "эта дружба переросла во глубокое любовь .\n",
      "джастин аш со То много молока каждый день .\n",
      "он вор .\n",
      "шумового загрязнение можно было бы только если бы люди были более чувствительны к окружающей среды .\n",
      "чай со лимоном , будте ласковые .\n",
      "не путать желание со влюбленностью .\n",
      "мной бы со удовольствием сочинил сотни сложноподчинённые во со и , конечно во меня То дела .\n",
      "дайте мне чашечку кофе .\n",
      "конечно же ты никогда мне о это не рассказывала !\n",
      "во тебя будут проблемы , если твои родители узнают .\n",
      "запах роз наполнил комнату .\n",
      "как во тебя дела ?\n",
      "это мои штаны .\n",
      "ни , спасибо .\n",
      "мной не понимаю , почему германия победила по Евровиденье .\n",
      "хороший вечер .\n",
      "со поприветствовал президент беларуссии борис путина. .\n",
      "привольный путь — широкий пояс со далеких звёзд , каждая звезда — солнце , такое как наше .\n",
      "необычайно видеть рок – звёзд со галстук !\n",
      "всё печенье во форме звёзд .\n",
      "что мне одеть — штаны ли юбку ?\n",
      "— известный московский скульптор .\n",
      "то был злой кролик .\n",
      "можешь взять любой – который , что тебе к отвратиться .\n",
      "конечно мной пойду .\n",
      "шелковичные прядут коконы .\n",
      "что бы ты сделала , если бы во тебя было , замечу , десять тысяч долларов ?\n",
      "он думает , что он кто-то , а действительно он никто .\n",
      "она очень гордится своею коллекцией марок .\n",
      "он очень простой ...\n",
      "она ты добра !\n",
      "как мной за тобой соскучился !\n",
      "это всё , что мной знаю .\n",
      "ты ведёшь дневник ?\n",
      "тебе решать .\n",
      "это почта , а то — банк .\n",
      "это всё , что мной хочу сделать .\n",
      "мной впервые смотрю такой страшный фильм .\n",
      "та песня напоминает мне о дом .\n",
      "здесь ?\n",
      "меня зовут джэк .\n",
      "как женщина живет , так она и умрет .\n",
      "мной здесь уже две часа .\n",
      "мне надо извиниться перед ен .\n",
      "сегодня мной видел скворца .\n",
      "« сколько стоить та носовая косыночка — « девять со двадцать аш со пять центов\n",
      "раненные медведи , как правило , очень опасные .\n",
      "он быстро устает .\n",
      "все готовы .\n",
      "он скучает по своей семь со мье .\n",
      "« спасибо — « по здоровье со мной\n",
      "мной ещe не знаю своего адреса , мной определенный момент буду жить во подруги .\n",
      "амазонка — вторая по длине река во мире после трепещущая .\n",
      "а если увидишь тома , передай ему от меня поздравления .\n",
      "закрой за собой дверь .\n",
      "держи при себе словарь .\n"
     ]
    }
   ],
   "source": [
    "for sent in uk_corpus[::10]:\n",
    "    print(translate(sent))"
   ]
  },
  {
   "cell_type": "markdown",
   "metadata": {
    "id": "PXMxWUtipDD8"
   },
   "source": [
    "Great! \n",
    "See second notebook for the Neural Machine Translation assignment."
   ]
  }
 ],
 "metadata": {
  "anaconda-cloud": {},
  "colab": {
   "collapsed_sections": [],
   "machine_shape": "hm",
   "name": "Lab1_NLP_part1_Embedding_based_MT.ipynb",
   "provenance": []
  },
  "kernelspec": {
   "display_name": "Python 3",
   "name": "python3"
  },
  "language_info": {
   "name": "python"
  }
 },
 "nbformat": 4,
 "nbformat_minor": 0
}